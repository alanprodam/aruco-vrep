{
 "cells": [
  {
   "cell_type": "code",
   "execution_count": 3,
   "metadata": {},
   "outputs": [
    {
     "name": "stdout",
     "output_type": "stream",
     "text": [
      "Program started\n",
      "Connected to remote API server\n",
      "Versão OpenCV:  3.4.2\n",
      "Versão Python:  3.6.5\n",
      "Program ended\n"
     ]
    }
   ],
   "source": [
    "print('Program started')\n",
    "import vrep\n",
    "import numpy as np\n",
    "import cv2\n",
    "import cv2.aruco as aruco\n",
    "import sys, time, math\n",
    "from platform import python_version\n",
    "\n",
    "import time\n",
    "\n",
    "##############Comunicação com V-REP##########################\n",
    "serverIP = '127.0.0.1';\n",
    "serverPort = 19999; #Esta porta do servidor está sempre aberta\n",
    "vrep.simxFinish(-1);\n",
    "clientID=vrep.simxStart(serverIP,serverPort,True,True,5000,5);\n",
    "#############################################################\n",
    "\n",
    "windowName = \"Imagem-Processada\" #Janela de visualização do Vídeo\n",
    "cv2.namedWindow(windowName, cv2.WINDOW_NORMAL)#Criando nome e tipo da janela\n",
    "cv2.setWindowProperty(windowName, cv2.WND_PROP_FULLSCREEN, cv2.WINDOW_FULLSCREEN)\n",
    "\n",
    "#-- Define Tag\n",
    "id_to_find = 72\n",
    "merer_size = 100 #-cm\n",
    "\n",
    "#-- Get the camera calibration\n",
    "calib_path = ''\n",
    "camera_matrix = np.loadtxt(calib_path+'cameraMatrix.txt', delimiter = ',')\n",
    "#camera_distortion = np.loadtxt(calib_path+'cameraDistortion.txt', delimiter = ',')\n",
    "\n",
    "aruco_dict = aruco.Dictionary_get(aruco.DICT_6X6_250)\n",
    "parameters =  aruco.DetectorParameters_create()\n",
    "#print(parameters)\n",
    "\n",
    "if clientID!=-1:\n",
    "    print ('Connected to remote API server')\n",
    "    print ('Versão OpenCV: ',cv2.__version__)\n",
    "    print ('Versão Python: ',python_version())\n",
    "    \n",
    "    err,visionHandle = vrep.simxGetObjectHandle(clientID,'Vision_sensor',vrep.simx_opmode_oneshot_wait)\n",
    "    \n",
    "    while err == 0:\n",
    "        \n",
    "        err,visionHandle = vrep.simxGetObjectHandle(clientID,'Vision_sensor',vrep.simx_opmode_oneshot_wait)\n",
    "        err,res,imgList = vrep.simxGetVisionSensorImage(clientID,visionHandle,0,vrep.simx_opmode_oneshot_wait) #Imagens do sensor\n",
    "        \n",
    "        img = (np.array(imgList))[::-1]#Passa de lista para uma array e inverte a array para plotar corretamente\n",
    "        imgRGB = cv2.flip(np.uint8(img.reshape(720,1280,3)),1) #Transforma em uma imagem RGB e espelha\n",
    "        \n",
    "        #gray = cv2.cvtColor(imgRGB, cv2.COLOR_BGR2GRAY) #Passa de RGB para escala de cinza\n",
    "        #cv2.imshow(windowName,gray) #Mostra a Imagem em escala de cinza\n",
    "        \n",
    "        #lists of ids and the corners beloning to each id\n",
    "        corners, ids, rejectedImgPoints = aruco.detectMarkers(image=imgRGB, dictionary=aruco_dict, parameters=parameters)\n",
    "        \n",
    "        #print(corners)\n",
    "        imgRGB = aruco.drawDetectedMarkers(imgRGB, corners)\n",
    "        \n",
    "        #print(rejectedImgPoints)\n",
    "        #imgRGB = aruco.drawDetectedMarkers(imgRGB, rejectedImgPoints)\n",
    "        \n",
    "        #Display the resulting frame\n",
    "        cv2.imshow(windowName,imgRGB)\n",
    "        \n",
    "        if cv2.waitKey(1) == 27: # exit on ESC\n",
    "            break\n",
    "\n",
    "    # Now close the connection to V-REP:\n",
    "    vrep.simxFinish(clientID)\n",
    "\n",
    "else:\n",
    "    print ('Failed connecting to remote API server')\n",
    "print ('Program ended')\n",
    "\n",
    "cv2.destroyAllWindows()"
   ]
  },
  {
   "cell_type": "code",
   "execution_count": null,
   "metadata": {},
   "outputs": [],
   "source": []
  }
 ],
 "metadata": {
  "kernelspec": {
   "display_name": "Python 3",
   "language": "python",
   "name": "python3"
  },
  "language_info": {
   "codemirror_mode": {
    "name": "ipython",
    "version": 3
   },
   "file_extension": ".py",
   "mimetype": "text/x-python",
   "name": "python",
   "nbconvert_exporter": "python",
   "pygments_lexer": "ipython3",
   "version": "3.6.5"
  }
 },
 "nbformat": 4,
 "nbformat_minor": 2
}
